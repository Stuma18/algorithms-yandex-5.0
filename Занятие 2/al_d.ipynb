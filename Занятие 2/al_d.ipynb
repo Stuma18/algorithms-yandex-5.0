{
 "cells": [
  {
   "cell_type": "code",
   "execution_count": 6,
   "metadata": {},
   "outputs": [],
   "source": [
    "N = int(input())\n",
    "n_list = [tuple(map(int, input().split())) for _ in range(N)]\n",
    "n_list = [[num - 1 for num in row] for row in n_list]"
   ]
  },
  {
   "cell_type": "code",
   "execution_count": 9,
   "metadata": {},
   "outputs": [
    {
     "name": "stdout",
     "output_type": "stream",
     "text": [
      "2\n"
     ]
    }
   ],
   "source": [
    "def replace_elements(matrix, indexes):\n",
    "    for index in indexes:\n",
    "        row, col = index\n",
    "        matrix[row][col] = 0\n",
    "    return matrix\n",
    "\n",
    "chessboard = [[1 for _ in range(8)] for _ in range(8)]\n",
    "\n",
    "result_chess = replace_elements(chessboard, n_list)\n",
    "\n",
    "neighbors = []\n",
    "for i in range(8):\n",
    "    for j in range(8):\n",
    "        if result_chess[i][j] == 0:\n",
    "            \n",
    "            if i - 1 >= 0 and result_chess[i - 1][j] == 1:\n",
    "                neighbors.append((i - 1, j))\n",
    "            if i + 1 < 8 and result_chess[i + 1][j] == 1:\n",
    "                neighbors.append((i + 1, j))\n",
    "            if j - 1 >= 0 and result_chess[i][j - 1] == 1:\n",
    "                neighbors.append((i, j - 1))\n",
    "            if j + 1 < 8 and result_chess[i][j + 1] == 1:\n",
    "                neighbors.append((i, j + 1))\n",
    "            \n",
    "if neighbors:\n",
    "    n = len(neighbors)\n",
    "    print(n)\n",
    "\n",
    "else:\n",
    "    print(0)"
   ]
  },
  {
   "cell_type": "code",
   "execution_count": null,
   "metadata": {},
   "outputs": [
    {
     "data": {
      "text/plain": [
       "[[1, 1, 1, 1, 1, 1, 1, 1],\n",
       " [1, 0, 0, 1, 1, 1, 1, 1],\n",
       " [1, 0, 1, 1, 1, 1, 1, 1],\n",
       " [1, 1, 1, 1, 1, 1, 1, 1],\n",
       " [1, 1, 1, 1, 1, 1, 1, 1],\n",
       " [1, 1, 1, 1, 1, 1, 1, 1],\n",
       " [1, 1, 1, 1, 1, 1, 1, 1],\n",
       " [1, 1, 1, 1, 1, 1, 1, 1]]"
      ]
     },
     "execution_count": 16,
     "metadata": {},
     "output_type": "execute_result"
    }
   ],
   "source": [
    "result_chess"
   ]
  },
  {
   "cell_type": "code",
   "execution_count": 12,
   "metadata": {},
   "outputs": [
    {
     "name": "stdout",
     "output_type": "stream",
     "text": [
      "4\n"
     ]
    }
   ],
   "source": [
    "n = int(input())\n",
    "cells = []\n",
    "for _ in range(n):\n",
    "    row, col = map(int, input().split())\n",
    "    cells.append((row, col))\n",
    "\n",
    "def perimeter(cells):\n",
    "    perimeter = 0\n",
    "    for cell in cells:\n",
    "        row, col = cell\n",
    "        for dr, dc in [(0, 1), (0, -1), (1, 0), (-1, 0)]:\n",
    "            new_row, new_col = row + dr, col + dc\n",
    "            if (new_row, new_col) not in cells:\n",
    "                perimeter += 1\n",
    "    return perimeter\n",
    "\n",
    "\n",
    "print(perimeter(cells))"
   ]
  }
 ],
 "metadata": {
  "kernelspec": {
   "display_name": "base",
   "language": "python",
   "name": "python3"
  },
  "language_info": {
   "codemirror_mode": {
    "name": "ipython",
    "version": 3
   },
   "file_extension": ".py",
   "mimetype": "text/x-python",
   "name": "python",
   "nbconvert_exporter": "python",
   "pygments_lexer": "ipython3",
   "version": "3.9.12"
  }
 },
 "nbformat": 4,
 "nbformat_minor": 2
}
