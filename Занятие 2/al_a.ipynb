{
 "cells": [
  {
   "cell_type": "code",
   "execution_count": 2,
   "metadata": {},
   "outputs": [
    {
     "name": "stdout",
     "output_type": "stream",
     "text": [
      "1 1 1 10\n"
     ]
    }
   ],
   "source": [
    "def minimum_rectangle(points):\n",
    "    min_x = min(points, key=lambda x: x[0])[0]\n",
    "    max_x = max(points, key=lambda x: x[0])[0]\n",
    "    min_y = min(points, key=lambda x: x[1])[1]\n",
    "    max_y = max(points, key=lambda x: x[1])[1]\n",
    "\n",
    "    return min_x, min_y, max_x, max_y\n",
    "\n",
    "k = int(input())\n",
    "points = [tuple(map(int, input().split())) for _ in range(k)]\n",
    "\n",
    "result = minimum_rectangle(points)\n",
    "print(*result)"
   ]
  }
 ],
 "metadata": {
  "kernelspec": {
   "display_name": "base",
   "language": "python",
   "name": "python3"
  },
  "language_info": {
   "codemirror_mode": {
    "name": "ipython",
    "version": 3
   },
   "file_extension": ".py",
   "mimetype": "text/x-python",
   "name": "python",
   "nbconvert_exporter": "python",
   "pygments_lexer": "ipython3",
   "version": "3.9.12"
  }
 },
 "nbformat": 4,
 "nbformat_minor": 2
}
