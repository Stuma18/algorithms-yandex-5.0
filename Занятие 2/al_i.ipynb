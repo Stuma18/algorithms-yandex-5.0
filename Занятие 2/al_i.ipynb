{
 "cells": [
  {
   "cell_type": "code",
   "execution_count": 3,
   "metadata": {},
   "outputs": [
    {
     "name": "stdout",
     "output_type": "stream",
     "text": [
      "51\n",
      "[[5, 32], [49, 28], [29, 35], [46, 27], [11, 15], [39, 7], [30, 8], [26, 27], [51, 50], [35, 27], [15, 40], [40, 1], [47, 31], [22, 12], [41, 22], [4, 29], [51, 11], [40, 9], [22, 42], [9, 11], [19, 33], [46, 29], [17, 40], [32, 20], [38, 26], [32, 51], [50, 40], [21, 15], [30, 23], [43, 9], [2, 17], [31, 13], [13, 29], [27, 21], [23, 18], [48, 22], [6, 1], [43, 32], [51, 45], [27, 50], [34, 28], [15, 32], [48, 27], [4, 19], [48, 3], [18, 6], [19, 43], [30, 15], [4, 21], [10, 10], [13, 42]]\n"
     ]
    }
   ],
   "source": [
    "filename = '32.txt'\n",
    "\n",
    "with open(filename, 'r') as file:\n",
    "    first_line = int(file.readline())\n",
    "    lines = file.readlines()\n",
    "\n",
    "    matrix = []\n",
    "    for line in lines:\n",
    "        row = list(map(int, line.split()))\n",
    "        matrix.append(row)\n",
    "\n",
    "print(first_line)\n",
    "print(matrix)\n",
    "\n",
    "n = first_line\n",
    "list_ships = matrix"
   ]
  },
  {
   "cell_type": "markdown",
   "metadata": {},
   "source": [
    "n = int(input())\n",
    "list_ships = []\n",
    "for _ in range(n):\n",
    "    data = list(map(int, input().split()))\n",
    "    list_ships.append(data)\n",
    "\n",
    "# Сортируем корабли по строкам\n",
    "list_ships.sort(key=lambda x: x[0])\n",
    "\n",
    "# Ищем самый оптимальный слолбец\n",
    "y =  round(sum(row[1] for row in list_ships) / n)\n",
    "\n",
    "# Считаем кол-во ходов\n",
    "dist = 0\n",
    "for i in range(len(list_ships)):\n",
    "    # Сколько надо пройти по строке\n",
    "    d_1 = abs(list_ships[i][0] - (i + 1))\n",
    "    # Сколько надо пройти по столбцу\n",
    "    d_2 = abs(list_ships[i][1] - y)\n",
    "    dist += d_1 + d_2\n",
    "\n",
    "print(dist)\n"
   ]
  },
  {
   "cell_type": "code",
   "execution_count": 12,
   "metadata": {},
   "outputs": [
    {
     "name": "stdout",
     "output_type": "stream",
     "text": [
      "2\n"
     ]
    }
   ],
   "source": [
    "\n",
    "n = int(input())\n",
    "list_ships = []\n",
    "for _ in range(n):\n",
    "    data = list(map(int, input().split()))\n",
    "    list_ships.append(data)\n",
    "\n",
    "# Сортируем корабли по строкам\n",
    "list_ships.sort(key=lambda x: x[0])\n",
    "\n",
    "dist_min = 10000000\n",
    "# Перебираем все столбцы\n",
    "for j in range(n):\n",
    "    y = j + 1\n",
    "    dist = 0\n",
    "    # Считаем кол-во ходов\n",
    "    for i in range(len(list_ships)):\n",
    "        # Сколько надо пройти по строке\n",
    "        d_1 = abs(list_ships[i][0] - (i + 1))\n",
    "        # Сколько надо пройти по столбцу\n",
    "        d_2 = abs(list_ships[i][1] - y)\n",
    "        dist += d_1 + d_2\n",
    "    #print('dist', dist)\n",
    "    dist_min = min(dist_min, dist)\n",
    "\n",
    "print(dist_min) "
   ]
  }
 ],
 "metadata": {
  "kernelspec": {
   "display_name": "base",
   "language": "python",
   "name": "python3"
  },
  "language_info": {
   "codemirror_mode": {
    "name": "ipython",
    "version": 3
   },
   "file_extension": ".py",
   "mimetype": "text/x-python",
   "name": "python",
   "nbconvert_exporter": "python",
   "pygments_lexer": "ipython3",
   "version": "3.9.12"
  }
 },
 "nbformat": 4,
 "nbformat_minor": 2
}
