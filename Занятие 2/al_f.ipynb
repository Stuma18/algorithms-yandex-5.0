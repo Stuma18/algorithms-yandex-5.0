{
 "cells": [
  {
   "cell_type": "code",
   "execution_count": 8,
   "metadata": {},
   "outputs": [],
   "source": [
    "n = int(input())\n",
    "sectors = list(map(int, input().split()))\n",
    "a, b, k = map(int, input().split())"
   ]
  },
  {
   "cell_type": "code",
   "execution_count": 4,
   "metadata": {},
   "outputs": [
    {
     "name": "stdout",
     "output_type": "stream",
     "text": [
      "581\n"
     ]
    }
   ],
   "source": [
    "n = int(input())\n",
    "sectors = list(map(int, input().split()))\n",
    "a, b, k = map(int, input().split())\n",
    "reversed_sectors = sectors[:1] + sectors[1:][::-1]\n",
    "\n",
    "if a < n and (b // k)> n * 2:\n",
    "    print(max(sectors))\n",
    "    #print(\"qq\")\n",
    "elif a <= k:\n",
    "    if a == b or ((a // k) % n) == ((b // k) % n):\n",
    "        max_1 = sectors[0]\n",
    "        max_2 = reversed_sectors[0]\n",
    "        #print(\"vv\")\n",
    "    elif (a // k) < (b // k) and (a // k) < n and  (b // k) < n:\n",
    "        max_1 = max(sectors[0 : ((b // k) % n + 1)])\n",
    "        max_2 = max(reversed_sectors[0 : ((b // k) % n) + 1])\n",
    "        #print(\"pp\")\n",
    "    else:\n",
    "        max_1 = max(sectors[0 : ((b // k) % n)])\n",
    "        max_2 = max(reversed_sectors[0 : ((b // k) % n)])\n",
    "        #print(\"sss\")\n",
    "    print(max(max_1, max_2))\n",
    "else:\n",
    "    if a == b or ((a // k) % n) == ((b // k) % n):\n",
    "        max_2 = reversed_sectors[((a // k) % n)]\n",
    "        max_1 = sectors[((a // k) % n)]\n",
    "        #print(\"zz\")\n",
    "    else:\n",
    "        if ((b // k) % n) == 0 and (a // k) - (b // k) < n:\n",
    "            if (b // k) >= n * 2:\n",
    "                #print(\"sss\")\n",
    "                max_2 = max(reversed_sectors[((a // k) % n) : ]  + sectors[ : 1])\n",
    "                max_1 = max(sectors[((a // k) % n) : ]+ sectors[ : 1])\n",
    "            else:\n",
    "                #print(\"kkkk\")\n",
    "                max_2 = max(reversed_sectors[((a // k) % n) : ])\n",
    "                max_1 = max(sectors[((a // k) % n) : ])\n",
    "        \n",
    "        elif (b // k) > n:\n",
    "            if (a // k) % n >= (b // k) % n and (a // k) // n > (b // k) // n:\n",
    "                sectors_4 = sectors[ : ((b // k) % n)] + sectors[((a // k) % n) : ]\n",
    "                reversed_sectors_4 = reversed_sectors[ : ((b // k) % n)] + reversed_sectors[((a // k) % n) : ]\n",
    "                max_2 = max(reversed_sectors_4)\n",
    "                max_1 = max(sectors_4)\n",
    "            else:\n",
    "                if (a // k) // n < (b // k) // n:\n",
    "                    max_2 = max(reversed_sectors)\n",
    "                    max_1 = max(sectors)\n",
    "                    #print(\"aa\")\n",
    "                else:\n",
    "                    #sectors_3 = sectors[ : ((b // k) % n)] + sectors[((a // k) % n) : ]\n",
    "                    #reversed_sectors_3 = reversed_sectors[ : ((b // k) % n)] + reversed_sectors[((a // k) % n) : ]\n",
    "                    if k == 1:\n",
    "                        sectors_5 = sectors[((a // k) % n - 1) : ((b // k) % n - 1)]\n",
    "                        reversed_sectors_5 = reversed_sectors[((a // k) % n) : ((b // k) % n)]\n",
    "                        max_2 = max(reversed_sectors_5)\n",
    "                        max_1 = max(sectors_5)\n",
    "                        #print(\"bb\")\n",
    "                    else:\n",
    "                        sectors_3 = sectors[((a // k) % n) : ((b // k) % n)]\n",
    "                        reversed_sectors_3 = reversed_sectors[((a // k) % n) : ((b // k) % n)]\n",
    "                        max_2 = max(reversed_sectors_3)\n",
    "                        max_1 = max(sectors_3)\n",
    "                        #print(\"cc\")\n",
    "        else:\n",
    "            if (a // k) % n > (b // k) % n:\n",
    "                sectors_2 = sectors[ : ((b // k) % n)] + sectors[((a // k) % n) : ]\n",
    "                reversed_sectors_2 = reversed_sectors[ : ((b // k) % n)] + reversed_sectors[((a // k) % n) : ]\n",
    "                max_2 = max(reversed_sectors_2)\n",
    "                max_1 = max(sectors_2) \n",
    "                #print(\"xx\")\n",
    "            else:  \n",
    "                max_2 = max(reversed_sectors[((a // k) % n) : ((b // k) % n)])\n",
    "                max_1 = max(sectors[((a // k) % n) : ((b // k) % n)])   \n",
    "                #print(\"y\")\n",
    "        #v = min(((a // k) % n), ((b // k) % n))\n",
    "        #z = max(((a // k) % n), ((b // k) % n))\n",
    "        #max_1 = max(sectors[v : z])\n",
    "        #max_2 = max(reversed_sectors[v : z])\n",
    "    print(max(max_1, max_2))"
   ]
  }
 ],
 "metadata": {
  "kernelspec": {
   "display_name": "base",
   "language": "python",
   "name": "python3"
  },
  "language_info": {
   "codemirror_mode": {
    "name": "ipython",
    "version": 3
   },
   "file_extension": ".py",
   "mimetype": "text/x-python",
   "name": "python",
   "nbconvert_exporter": "python",
   "pygments_lexer": "ipython3",
   "version": "3.9.12"
  }
 },
 "nbformat": 4,
 "nbformat_minor": 2
}
