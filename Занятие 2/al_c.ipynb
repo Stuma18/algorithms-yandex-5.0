{
 "cells": [
  {
   "cell_type": "code",
   "execution_count": 3,
   "metadata": {},
   "outputs": [
    {
     "name": "stdout",
     "output_type": "stream",
     "text": [
      "2000\n"
     ]
    }
   ],
   "source": [
    "n = int(input())\n",
    "l_list = list(map(int, input().split()))\n",
    "\n",
    "max_rope = max(l_list)\n",
    "l_list.remove(max_rope)\n",
    "if max_rope > sum(l_list):\n",
    "    n = max_rope - sum(l_list)\n",
    "else:\n",
    "    n = max_rope + sum(l_list)\n",
    "    \n",
    "print(n)"
   ]
  }
 ],
 "metadata": {
  "kernelspec": {
   "display_name": "base",
   "language": "python",
   "name": "python3"
  },
  "language_info": {
   "codemirror_mode": {
    "name": "ipython",
    "version": 3
   },
   "file_extension": ".py",
   "mimetype": "text/x-python",
   "name": "python",
   "nbconvert_exporter": "python",
   "pygments_lexer": "ipython3",
   "version": "3.9.12"
  }
 },
 "nbformat": 4,
 "nbformat_minor": 2
}
