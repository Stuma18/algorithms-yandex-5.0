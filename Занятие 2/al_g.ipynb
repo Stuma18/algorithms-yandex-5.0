{
 "cells": [
  {
   "cell_type": "code",
   "execution_count": 40,
   "metadata": {},
   "outputs": [
    {
     "name": "stdout",
     "output_type": "stream",
     "text": [
      "3\n",
      "1 3 1\n",
      "3\n",
      "1 6 9\n",
      "3\n",
      "2 3 2\n"
     ]
    }
   ],
   "source": [
    "for _ in range(int(input())):\n",
    "    n = int(input())\n",
    "    *a, = map(int, input().split())\n",
    "    result = []\n",
    "    list_n = []\n",
    "    \n",
    "    i = 0\n",
    "    while i < n:\n",
    "        \n",
    "        if len(list_n) == 0:\n",
    "            n_min = 1\n",
    "        elif len(list_n) == 1:\n",
    "            n_min = list_n[-1]\n",
    "        else:\n",
    "            n_min = min(n_min, list_n[-1])\n",
    " \n",
    "        if n_min >= len(list_n) + 1 and a[i] >= len(list_n) + 1:\n",
    "            list_n.append(a[i])\n",
    "            i += 1\n",
    "        else:\n",
    "            result.append(len(list_n))\n",
    "            list_n = []\n",
    " \n",
    "    result.append(len(list_n))\n",
    "    print(len(result))\n",
    "    print(*result)"
   ]
  },
  {
   "cell_type": "code",
   "execution_count": 29,
   "metadata": {},
   "outputs": [
    {
     "ename": "TypeError",
     "evalue": "object of type 'int' has no len()",
     "output_type": "error",
     "traceback": [
      "\u001b[0;31m---------------------------------------------------------------------------\u001b[0m",
      "\u001b[0;31mTypeError\u001b[0m                                 Traceback (most recent call last)",
      "Input \u001b[0;32mIn [29]\u001b[0m, in \u001b[0;36m<cell line: 32>\u001b[0;34m()\u001b[0m\n\u001b[1;32m     29\u001b[0m     all_len\u001b[38;5;241m.\u001b[39mappend(\u001b[38;5;28mlen\u001b[39m(one_segment))\n\u001b[1;32m     32\u001b[0m \u001b[38;5;28;01mfor\u001b[39;00m i \u001b[38;5;129;01min\u001b[39;00m \u001b[38;5;28mrange\u001b[39m(test):   \n\u001b[0;32m---> 33\u001b[0m     \u001b[38;5;28mprint\u001b[39m(\u001b[38;5;28;43mlen\u001b[39;49m\u001b[43m(\u001b[49m\u001b[43mall_len\u001b[49m\u001b[43m[\u001b[49m\u001b[43mi\u001b[49m\u001b[43m]\u001b[49m\u001b[43m)\u001b[49m)\n\u001b[1;32m     34\u001b[0m     \u001b[38;5;28mprint\u001b[39m(all_segment[i])\n",
      "\u001b[0;31mTypeError\u001b[0m: object of type 'int' has no len()"
     ]
    }
   ],
   "source": [
    "all_list = []\n",
    "all_segment = []\n",
    "all_len = []\n",
    "\n",
    "test = int(input())\n",
    "\n",
    "for i in range(test):\n",
    "    n = int(input())\n",
    "    one_list = list(map(int, input().split()))\n",
    "    all_list.append(one_list)\n",
    "    one_segment = []\n",
    "    \n",
    "    j = 0\n",
    "    while j < n:\n",
    "        if len(one_segment) == 0:\n",
    "            min_el = 1\n",
    "        elif len(one_segment) == 1:\n",
    "            min_el = one_segment[-1]\n",
    "        else:\n",
    "            min_el = min(min_el, one_segment[-1])\n",
    "            \n",
    "        if min_el > len(one_segment) and one_list[j] > len(one_segment):\n",
    "            one_segment.append((one_list[j]))\n",
    "            j += 1\n",
    "        else:\n",
    "            all_len.append(len(one_segment))\n",
    "            one_segment = []\n",
    "        \n",
    "    all_len.append(len(one_segment))\n",
    "\n",
    "\n",
    "for i in range(test):   \n",
    "    print(len(all_len[i]))\n",
    "    print(all_segment[i])\n",
    "            \n",
    "    "
   ]
  },
  {
   "cell_type": "code",
   "execution_count": 9,
   "metadata": {},
   "outputs": [
    {
     "name": "stdout",
     "output_type": "stream",
     "text": [
      "[[1, 3, 3], [1, 3, 3], [1, 3, 3], [1, 3, 3], [1, 3, 3]]\n",
      "[1, 2, 3, 3, 3]\n"
     ]
    }
   ],
   "source": [
    "#n = int(input())\n",
    "#list_n = list(map(int, input().split()))\n",
    "\n",
    "list_segment = []\n",
    "list_segments = []\n",
    "list_lengths = []\n",
    "length = 0\n",
    "for i in range(len(list_n)):\n",
    "    \n",
    "    if list_n[i] >= len(list_segment) + 1:\n",
    "        list_segment.append(list_n[i])\n",
    "    else:\n",
    "        i += 1\n",
    "    list_segments.append(list_segment)\n",
    "    list_lengths.append(length)\n",
    "    min = min(list_segment)\n",
    "\n",
    "print(list_segments)\n",
    "print(list_lengths)\n"
   ]
  }
 ],
 "metadata": {
  "kernelspec": {
   "display_name": "base",
   "language": "python",
   "name": "python3"
  },
  "language_info": {
   "codemirror_mode": {
    "name": "ipython",
    "version": 3
   },
   "file_extension": ".py",
   "mimetype": "text/x-python",
   "name": "python",
   "nbconvert_exporter": "python",
   "pygments_lexer": "ipython3",
   "version": "3.9.12"
  }
 },
 "nbformat": 4,
 "nbformat_minor": 2
}
