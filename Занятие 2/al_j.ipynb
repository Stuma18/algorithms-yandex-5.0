{
 "cells": [
  {
   "cell_type": "code",
   "execution_count": 4,
   "metadata": {},
   "outputs": [
    {
     "name": "stdout",
     "output_type": "stream",
     "text": [
      "YES\n",
      "aaab.\n"
     ]
    }
   ],
   "source": [
    "def draw_rect(m, n, table, i_start, j_start, s: str = 'a'):\n",
    "\tlen_x = 0\n",
    "\tlen_rec_inside = 0\n",
    "\tlen_y = 0\n",
    "\tj = j_start\n",
    "\tflag_edd_inside_rec = True\n",
    "\twhile j < n and table[i_start][j] != '.':\n",
    "\t\tif table[i_start][j] == '#':\n",
    "\t\t\tj += 1\n",
    "\t\t\tlen_x += 1\n",
    "\t\t\tflag_edd_inside_rec = True\n",
    "\t\telse:\n",
    "\t\t\tj += 1\n",
    "\t\t\tlen_rec_inside += 1\n",
    "\t\t\tflag_edd_inside_rec = False\n",
    "\t\t\tflag_edd_inside_rec = False\n",
    "\n",
    "\tif flag_edd_inside_rec:\n",
    "\t\tlen_x += len_rec_inside\n",
    "\ti = i_start\n",
    "\tj = j_start\n",
    "\twhile i < m and '.' not in table[i][j:j + len_x]  :\n",
    "\t\tfor j_ in range(j, j + len_x):\n",
    "\t\t\ttable[i][j_] = s\n",
    "\t\ti += 1\n",
    "\t\tlen_y += 1\n",
    "\treturn len_x, len_y, i - 1\n",
    "\n",
    "\n",
    "def solution(m, n, table):\n",
    "\trects = ['a', 'b']\n",
    "\trect_i = 0\n",
    "\tj_start_line, last_line_i = None, None\n",
    "\tfor i in range(m):\n",
    "\t\tfor j in range(n):\n",
    "\t\t\tx = table[i][j]\n",
    "\t\t\tif x == '#':\n",
    "\t\t\t\tif rect_i >= len(rects):\n",
    "\t\t\t\t\treturn ['NO', None]\n",
    "\t\t\t\ts = rects[rect_i]\n",
    "\t\t\t\trect_i += 1\n",
    "\t\t\t\tlen_x, len_y, last_line_i = draw_rect(m, n, table, i, j, s)\n",
    "\t\t\t\tj_start_line = j\n",
    "\n",
    "\tif rect_i == 0:\n",
    "\t\treturn ['NO', None]\n",
    "\tif rect_i == 1:\n",
    "\t\tif len_y * len_x == 1:\n",
    "\t\t\treturn ['NO', None]\n",
    "\t\ts = rects[rect_i]\n",
    "\t\tif len_y > 1:\n",
    "\t\t\tfor j_ in range(j_start_line, j_start_line + len_x):\n",
    "\t\t\t\ttable[last_line_i][j_] = s\n",
    "\t\telse:\n",
    "\t\t\ttable[last_line_i][j_start_line + len_x - 1] = s\n",
    "\t\treturn ['YES', table]\n",
    "\treturn ['YES', table]\n",
    "\n",
    "\n",
    "m, n = list(map(int, input().split()))\n",
    "table = []\n",
    "for i in range(m):\n",
    "    new_line = [x for x in input()]\n",
    "    table.append(new_line)\n",
    "res, table = solution(m, n, table)\n",
    "print(res)\n",
    "if res == 'YES':\n",
    "    for line in table:\n",
    "        print(''.join(line))"
   ]
  }
 ],
 "metadata": {
  "kernelspec": {
   "display_name": "base",
   "language": "python",
   "name": "python3"
  },
  "language_info": {
   "codemirror_mode": {
    "name": "ipython",
    "version": 3
   },
   "file_extension": ".py",
   "mimetype": "text/x-python",
   "name": "python",
   "nbconvert_exporter": "python",
   "pygments_lexer": "ipython3",
   "version": "3.9.12"
  }
 },
 "nbformat": 4,
 "nbformat_minor": 2
}
