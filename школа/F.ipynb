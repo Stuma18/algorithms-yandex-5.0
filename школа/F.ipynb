{
 "cells": [
  {
   "cell_type": "code",
   "execution_count": 35,
   "metadata": {},
   "outputs": [
    {
     "name": "stdout",
     "output_type": "stream",
     "text": [
      "11\n"
     ]
    }
   ],
   "source": [
    "def find_outlier_day(metric_values, K):\n",
    "    outlier_day = -1\n",
    "    \n",
    "    for i in range(K, len(metric_values)):\n",
    "        val = metric_values[i - K:i]\n",
    "        if i >= 10:\n",
    "            tens = i // 10\n",
    "            val = metric_values[0 : i - tens]\n",
    "            val.remove(max(val))\n",
    "            \n",
    "            #print(val)\n",
    "            #if metric_values[i] > max(metric_values[i - K:i]) * 0.9:\n",
    "        if metric_values[i] > max(val):\n",
    "            #print(i)\n",
    "            #print(metric_values[i])\n",
    "            #print((metric_values[0 : i - 1]))\n",
    "            outlier_day = i\n",
    "            break\n",
    "    \n",
    "    return outlier_day\n",
    "\n",
    "M = int(input())\n",
    "K = int(input())\n",
    "metric_values = list(map(int, input().split()))\n",
    "\n",
    "outlier_day = find_outlier_day(metric_values, K)\n",
    "\n",
    "if outlier_day != -1:\n",
    "    print(outlier_day + 1)\n",
    "else:\n",
    "    print(-1)\n"
   ]
  },
  {
   "cell_type": "code",
   "execution_count": 18,
   "metadata": {},
   "outputs": [
    {
     "data": {
      "text/plain": [
       "2"
      ]
     },
     "execution_count": 18,
     "metadata": {},
     "output_type": "execute_result"
    }
   ],
   "source": [
    "29 // 10\n"
   ]
  }
 ],
 "metadata": {
  "kernelspec": {
   "display_name": "base",
   "language": "python",
   "name": "python3"
  },
  "language_info": {
   "codemirror_mode": {
    "name": "ipython",
    "version": 3
   },
   "file_extension": ".py",
   "mimetype": "text/x-python",
   "name": "python",
   "nbconvert_exporter": "python",
   "pygments_lexer": "ipython3",
   "version": "3.9.12"
  }
 },
 "nbformat": 4,
 "nbformat_minor": 2
}
