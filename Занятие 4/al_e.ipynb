{
 "cells": [
  {
   "cell_type": "code",
   "execution_count": 10,
   "metadata": {},
   "outputs": [
    {
     "name": "stdout",
     "output_type": "stream",
     "text": [
      "1/3\n"
     ]
    }
   ],
   "source": [
    "def num_step(number_top):\n",
    "\tn1 = number_top // 2\n",
    "\tif number_top > 2:\n",
    "\t\tan = number_top - (2 - number_top % 2)\n",
    "\t\tn2 = (2 + an) * (an // 2) // 2\n",
    "\telse:\n",
    "\t\tn2 = 0\n",
    "\treturn n1 + 2 * n2\n",
    "\n",
    "n = int(input())\n",
    "\n",
    "n -= 1\n",
    "l = 0\n",
    "r = 10 ** 18 + 1\n",
    "ans = -1\n",
    "while l <= r:\n",
    "    m = (l + r) // 2\n",
    "    if num_step(m) > n:\n",
    "        r = m - 1\n",
    "    else:\n",
    "        ans = m\n",
    "        l = m + 1\n",
    "start_diag = ans\n",
    "\n",
    "n -= num_step(start_diag)\n",
    "if n == 0:\n",
    "    res1, res2 = (start_diag, 1)\n",
    "if n > start_diag - 1:\n",
    "    n -= start_diag - 1\n",
    "    res1, res2 = (n, start_diag + 1 - n + 1)\n",
    "else:\n",
    "    res1, res2 = (start_diag - n, n+1)\n",
    "print('{}/{}'.format(res1, res2))"
   ]
  }
 ],
 "metadata": {
  "kernelspec": {
   "display_name": "base",
   "language": "python",
   "name": "python3"
  },
  "language_info": {
   "codemirror_mode": {
    "name": "ipython",
    "version": 3
   },
   "file_extension": ".py",
   "mimetype": "text/x-python",
   "name": "python",
   "nbconvert_exporter": "python",
   "pygments_lexer": "ipython3",
   "version": "3.9.12"
  }
 },
 "nbformat": 4,
 "nbformat_minor": 2
}
