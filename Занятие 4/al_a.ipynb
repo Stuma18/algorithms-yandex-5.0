{
 "cells": [
  {
   "cell_type": "code",
   "execution_count": 6,
   "metadata": {},
   "outputs": [
    {
     "name": "stdout",
     "output_type": "stream",
     "text": [
      "5 2 2 0 "
     ]
    }
   ],
   "source": [
    "def bin_search(arr, x):\n",
    "\tif not arr:\n",
    "\t\treturn -1\n",
    "\tl = 0\n",
    "\tr = len(arr) - 1\n",
    "\tans = -1\n",
    "\twhile l <= r:\n",
    "\t\tm = (l + r) // 2\n",
    "\t\tif arr[m] >= x:\n",
    "\t\t\tr = m - 1\n",
    "\t\t\tans = m\n",
    "\t\telse:\n",
    "\t\t\tl = m + 1\n",
    "\tif r == -1:\n",
    "\t\treturn 0\n",
    "\tif l == len(arr):\n",
    "\t\treturn len(arr)\n",
    "\treturn ans\n",
    "\n",
    "\n",
    "N = input()\n",
    "arr = list(map(int, input().split()))\n",
    "arr.sort()\n",
    "\n",
    "K = int(input())\n",
    "for i in range(K):\n",
    "    L, R = list(map(int, input().split()))\n",
    "    first = bin_search(arr, L)\n",
    "    last = bin_search(arr, R + 1)\n",
    "    print(last - first, end = ' ')"
   ]
  }
 ],
 "metadata": {
  "kernelspec": {
   "display_name": "base",
   "language": "python",
   "name": "python3"
  },
  "language_info": {
   "codemirror_mode": {
    "name": "ipython",
    "version": 3
   },
   "file_extension": ".py",
   "mimetype": "text/x-python",
   "name": "python",
   "nbconvert_exporter": "python",
   "pygments_lexer": "ipython3",
   "version": "3.9.12"
  }
 },
 "nbformat": 4,
 "nbformat_minor": 2
}
