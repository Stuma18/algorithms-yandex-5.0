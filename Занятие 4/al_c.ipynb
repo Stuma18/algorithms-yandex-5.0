{
 "cells": [
  {
   "cell_type": "code",
   "execution_count": 1,
   "metadata": {},
   "outputs": [
    {
     "name": "stdout",
     "output_type": "stream",
     "text": [
      "1\n",
      "2\n"
     ]
    }
   ],
   "source": [
    "def bin_search(sum_slise, sum_mass, k, mass):\n",
    "    l = k-1\n",
    "    r = len(mass) - 1\n",
    "    while l < r:\n",
    "        m = (l + r) // 2\n",
    "        del_1 = 0\n",
    "        if m - k >= 0:\n",
    "            del_1 = sum_mass[m - k]\n",
    "        sum_ = sum_mass[m] - del_1\n",
    "        if sum_slise == sum_:\n",
    "            return m-(k-1)\n",
    "        elif sum_ > sum_slise:\n",
    "            r = m\n",
    "        else:\n",
    "            l = m + 1\n",
    "        \n",
    "    del_2 = 0\n",
    "    if l - k >= 0:\n",
    "        del_2 = sum_mass[l - k]\n",
    "    sum_ = sum_mass[l] - del_2\n",
    "    if sum_ == sum_slise:\n",
    "        return l - (k-1)\n",
    "\n",
    "\n",
    "n, k = list(map(int, input().split()))\n",
    "mass = list(map(int, input().split()))\n",
    "\n",
    "if not mass:\n",
    "    sum_mass = []\n",
    "else:\n",
    "    sum_mass = [mass[0]]\n",
    "    for i in range(1, n):\n",
    "        sum_mass.append(sum_mass[-1] + mass[i])\n",
    "\n",
    "for ki in range(k):\n",
    "    k, sum_slise = list(map(int, input().split()))\n",
    "    \n",
    "    if k > n or k < 1:\n",
    "        res = -1\n",
    "    else:\n",
    "        ans = bin_search(sum_slise, sum_mass, k, mass)\n",
    "        if ans is None:\n",
    "            res = -1\n",
    "        else:\n",
    "            res = ans + 1\n",
    "    print(res)"
   ]
  }
 ],
 "metadata": {
  "kernelspec": {
   "display_name": "base",
   "language": "python",
   "name": "python3"
  },
  "language_info": {
   "codemirror_mode": {
    "name": "ipython",
    "version": 3
   },
   "file_extension": ".py",
   "mimetype": "text/x-python",
   "name": "python",
   "nbconvert_exporter": "python",
   "pygments_lexer": "ipython3",
   "version": "3.9.12"
  }
 },
 "nbformat": 4,
 "nbformat_minor": 2
}
