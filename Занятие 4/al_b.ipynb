{
 "cells": [
  {
   "cell_type": "code",
   "execution_count": 4,
   "metadata": {},
   "outputs": [
    {
     "name": "stdout",
     "output_type": "stream",
     "text": [
      "2\n"
     ]
    }
   ],
   "source": [
    "def funk(n, ki):\n",
    "\tn -= ki\n",
    "\tki -= 1\n",
    "\tm = 2\n",
    "\twhile ki > 0:\n",
    "\t\tn -= (ki + 1) * m\n",
    "\t\tif n < 0:\n",
    "\t\t\treturn False\n",
    "\t\tki -= 1\n",
    "\t\tm += 1\n",
    "\treturn n >= 0\n",
    "\n",
    "n = int(input())\n",
    "l = 0\n",
    "r = n\n",
    "res = -1\n",
    "while l <= r:\n",
    "\tm = (l + r) // 2\n",
    "\tif funk(n, m):\n",
    "\t\tl = m + 1\n",
    "\t\tres = m\n",
    "\telse:\n",
    "\t\tr = m - 1\n",
    "print(res)"
   ]
  }
 ],
 "metadata": {
  "kernelspec": {
   "display_name": "base",
   "language": "python",
   "name": "python3"
  },
  "language_info": {
   "codemirror_mode": {
    "name": "ipython",
    "version": 3
   },
   "file_extension": ".py",
   "mimetype": "text/x-python",
   "name": "python",
   "nbconvert_exporter": "python",
   "pygments_lexer": "ipython3",
   "version": "3.9.12"
  }
 },
 "nbformat": 4,
 "nbformat_minor": 2
}
