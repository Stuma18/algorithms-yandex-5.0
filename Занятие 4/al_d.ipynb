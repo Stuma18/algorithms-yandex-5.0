{
 "cells": [
  {
   "cell_type": "code",
   "execution_count": 1,
   "metadata": {},
   "outputs": [
    {
     "name": "stdout",
     "output_type": "stream",
     "text": [
      "3\n"
     ]
    }
   ],
   "source": [
    "def h_list(width, mass):\n",
    "\th = 0\n",
    "\tli = 0\n",
    "\tfor x in mass:\n",
    "\t\tif li == 0:\n",
    "\t\t\tif x == width:\n",
    "\t\t\t\th += 1\n",
    "\t\t\t\tli =0\n",
    "\t\t\telif x < width:\n",
    "\t\t\t\tli = x\n",
    "\t\t\t\th += 1\n",
    "\t\telse:\n",
    "\t\t\tif li + x + 1 <= width:\n",
    "\t\t\t\tli += x + 1\n",
    "\t\t\telse:\n",
    "\t\t\t\tli = x\n",
    "\t\t\t\th += 1\n",
    "\treturn h\n",
    "\n",
    "\n",
    "def w_list(h, mass):\n",
    "\twidth_min = max(mass)\n",
    "\twidth_max = sum(mass) + len(mass) + 1\n",
    "\tWIDTH = range(width_min, width_max)\n",
    "\tl = 0\n",
    "\tr = len(WIDTH) - 1\n",
    "\tans = -1\n",
    "\twhile l <= r:\n",
    "\t\tm = (l + r) // 2\n",
    "\t\tif h_list(WIDTH[m], mass) <= h:\n",
    "\t\t\tans = m\n",
    "\t\t\tr = m - 1\n",
    "\t\telse:\n",
    "\t\t\tl = m + 1\n",
    "\tif ans != -1:\n",
    "\t\treturn WIDTH[ans]\n",
    "\n",
    "\n",
    "w, n, m = list(map(int, input().split()))\n",
    "a = list(map(int, input().split()))\n",
    "b = list(map(int, input().split()))\n",
    "\n",
    "\n",
    "h_min = 1\n",
    "h_max = len(a) + len(b) + 1\n",
    "H = range(h_min, h_max)\n",
    "l = 0\n",
    "r = len(H) - 1\n",
    "ans = -1\n",
    "while l <= r:\n",
    "    m = (l + r) // 2\n",
    "    \n",
    "    w1 = w_list(H[m], a)\n",
    "    h1 = h_list(w1, a)\n",
    "    w2 = w_list(H[m], b)\n",
    "    h2 = h_list(w2, b)\n",
    "    w_test, h_test = w1 + w2, max(h1, h2)\n",
    "    \n",
    "    if w_test > w:\n",
    "        l = m + 1\n",
    "    else:\n",
    "        ans = h_test\n",
    "        r = m - 1\n",
    "if ans != -1:\n",
    "    print(ans)"
   ]
  }
 ],
 "metadata": {
  "kernelspec": {
   "display_name": "base",
   "language": "python",
   "name": "python3"
  },
  "language_info": {
   "codemirror_mode": {
    "name": "ipython",
    "version": 3
   },
   "file_extension": ".py",
   "mimetype": "text/x-python",
   "name": "python",
   "nbconvert_exporter": "python",
   "pygments_lexer": "ipython3",
   "version": "3.9.12"
  }
 },
 "nbformat": 4,
 "nbformat_minor": 2
}
