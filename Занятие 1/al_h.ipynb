{
 "cells": [
  {
   "cell_type": "code",
   "execution_count": null,
   "metadata": {},
   "outputs": [],
   "source": []
  },
  {
   "cell_type": "code",
   "execution_count": 93,
   "metadata": {},
   "outputs": [],
   "source": [
    "date_list = input().split()\n",
    "\n",
    "L = int(date_list[0])\n",
    "x_1 = int(date_list[1])\n",
    "v_1 = int(date_list[2])\n",
    "x_2 = int(date_list[3])\n",
    "v_2 = int(date_list[4])\n",
    "#print(L, x_1, v_1, x_2, v_2)"
   ]
  },
  {
   "cell_type": "code",
   "execution_count": 94,
   "metadata": {},
   "outputs": [
    {
     "name": "stdout",
     "output_type": "stream",
     "text": [
      "YES\n",
      "0.8571428571428571\n"
     ]
    }
   ],
   "source": [
    "time = 0.0\n",
    "dist_1 = min(x_1, L - x_1)\n",
    "dist_2 = min(x_2, L - x_2)\n",
    "\n",
    "if dist_1 == dist_2:\n",
    "    print('YES')\n",
    "    print(time)\n",
    "\n",
    "if dist_1 != dist_2:\n",
    "    \n",
    "    if v_1 == 0 and v_2 == 0:\n",
    "        print('NO')\n",
    "    else:\n",
    "        y = (x_1 + x_2) / 2\n",
    "        v_y = (v_1 + v_2) / 2\n",
    "        if v_y == 0:\n",
    "            time = ((L - max(x_1, x_2) + min(x_1, x_2)) / 2) / abs(v_1)\n",
    "            #print(1)\n",
    "            print('YES')\n",
    "            print(time)\n",
    "        \n",
    "        else:\n",
    "            time_1 = (L - y) / v_y\n",
    "            time_2 = (L / 2 - y) / v_y\n",
    "            #print(time_1, time_2)\n",
    "            if time_1 < 0:\n",
    "                time_1 = 10000000000000000\n",
    "            if time_2 < 0:\n",
    "                time_2 = 10000000000000000\n",
    "            \n",
    "            if x_1 < x_2 and v_1 < 0 and v_2 > 0 or x_2 < x_1 and v_2 < 0 and v_1 > 0:\n",
    "                time = abs((min(x_1, x_2) - min(x_1, x_2) - (L - max(x_1, x_2) + min(x_1, x_2)) / 2) / (((v_1 + v_2) / 2) - min(v_1, v_2)))\n",
    "                #print(2)\n",
    "                print('YES')\n",
    "                print(time)\n",
    "            \n",
    "            elif x_1 > x_2 and v_1 < 0 and v_2 < 0 and abs(v_1) < abs(v_2) or x_1 < x_2 and v_1 < 0 and v_2 < 0 and abs(v_1) > abs(v_2):\n",
    "                time = (- max(x_1, x_2) - min(x_1, x_2)) / (max(v_1, v_2) + min(v_1, v_2))\n",
    "                #time = (L - max(x_1, x_2) + min(x_1, x_2))/(max(abs(v_1), abs(v_2)) - min(abs(v_1), abs(v_2)))\n",
    "                #print(3)\n",
    "                print('YES')\n",
    "                print(time)\n",
    "            \n",
    "            else:\n",
    "                if v_1 != v_2:  \n",
    "                    if v_y - v_1 != 0:\n",
    "                        time_3 = (x_1 - y) / (v_y - v_1)\n",
    "                        #print(\"time_3\", time_3)\n",
    "                    else:\n",
    "                        time_3 = 10000000000000000\n",
    "                    if time_3 < 0:\n",
    "                        time_3 = 10000000000000000\n",
    "                    time = min(time_1, time_2, time_3)\n",
    "                    #print(4)\n",
    "                    print('YES')\n",
    "                    print(time)\n",
    "                    #print(y, time_1, time_2, time_3, time)\n",
    "                \n",
    "                else:\n",
    "                    time_3 = abs(y / v_1)\n",
    "                    time = min(time_1, time_2, time_3)\n",
    "                    #print(y, time_1, time_2, time_3, time)\n",
    "                    #print(5)\n",
    "                    print('YES')\n",
    "                    print(time)\n",
    "                    #print(y, time_1, time_2, time)"
   ]
  },
  {
   "cell_type": "code",
   "execution_count": 95,
   "metadata": {},
   "outputs": [
    {
     "data": {
      "text/plain": [
       "-8.0"
      ]
     },
     "execution_count": 95,
     "metadata": {},
     "output_type": "execute_result"
    }
   ],
   "source": [
    "time = (-x_2 - x_1) / (v_1 + v_2)\n",
    "time"
   ]
  },
  {
   "cell_type": "code",
   "execution_count": 96,
   "metadata": {},
   "outputs": [
    {
     "data": {
      "text/plain": [
       "0.052809132979725885"
      ]
     },
     "execution_count": 96,
     "metadata": {},
     "output_type": "execute_result"
    }
   ],
   "source": [
    "t = (-11464466 -55132452)/(-373561948 -887525183)\n",
    "t"
   ]
  },
  {
   "cell_type": "code",
   "execution_count": 97,
   "metadata": {},
   "outputs": [
    {
     "ename": "SyntaxError",
     "evalue": "invalid syntax (475993769.py, line 1)",
     "output_type": "error",
     "traceback": [
      "\u001b[0;36m  Input \u001b[0;32mIn [97]\u001b[0;36m\u001b[0m\n\u001b[0;31m    abs(time * (v_1) + x_1) ==\u001b[0m\n\u001b[0m                              ^\u001b[0m\n\u001b[0;31mSyntaxError\u001b[0m\u001b[0;31m:\u001b[0m invalid syntax\n"
     ]
    }
   ],
   "source": [
    "abs(time * (v_1) + x_1) =="
   ]
  },
  {
   "cell_type": "code",
   "execution_count": null,
   "metadata": {},
   "outputs": [
    {
     "data": {
      "text/plain": [
       "-35404969.42989634"
      ]
     },
     "execution_count": 11,
     "metadata": {},
     "output_type": "execute_result"
    }
   ],
   "source": [
    "i = 0.0528091330*(-887525183) + 11464466\n",
    "i"
   ]
  },
  {
   "cell_type": "code",
   "execution_count": null,
   "metadata": {},
   "outputs": [
    {
     "data": {
      "text/plain": [
       "35404969.40432891"
      ]
     },
     "execution_count": 9,
     "metadata": {},
     "output_type": "execute_result"
    }
   ],
   "source": [
    "j = 0.0528091330*(-373561948)+55132452\n",
    "j"
   ]
  },
  {
   "cell_type": "markdown",
   "metadata": {},
   "source": [
    "if x_1 < x_2 and v_1 < 0 and v_2 > 0 or x_2 < x_1 and v_2 < 0 and v_1 > 0:\n",
    "    time = (min(x_1, x_2) - min(x_1, x_2) - (L - max(x_1, x_2) + min(x_1, x_2)) / 2) / (((v_1 + v_2) / 2) - min(v_1, v_2))\n",
    "    "
   ]
  },
  {
   "cell_type": "code",
   "execution_count": null,
   "metadata": {},
   "outputs": [
    {
     "data": {
      "text/plain": [
       "69316600.0"
      ]
     },
     "execution_count": 4,
     "metadata": {},
     "output_type": "execute_result"
    }
   ],
   "source": [
    "s = (72036282 - 55132452 + 11464466)/2 + 55132452\n",
    "s"
   ]
  },
  {
   "cell_type": "code",
   "execution_count": null,
   "metadata": {},
   "outputs": [
    {
     "data": {
      "text/plain": [
       "33298459.0"
      ]
     },
     "execution_count": 5,
     "metadata": {},
     "output_type": "execute_result"
    }
   ],
   "source": [
    "s_2 = (55132452 - 11464466)/2 + 11464466\n",
    "s_2"
   ]
  },
  {
   "cell_type": "code",
   "execution_count": null,
   "metadata": {},
   "outputs": [
    {
     "data": {
      "text/plain": [
       "-256981617.5"
      ]
     },
     "execution_count": 6,
     "metadata": {},
     "output_type": "execute_result"
    }
   ],
   "source": [
    "v = (-887525183 - (-373561948))/2\n",
    "v"
   ]
  },
  {
   "cell_type": "code",
   "execution_count": null,
   "metadata": {},
   "outputs": [
    {
     "data": {
      "text/plain": [
       "-0.1295752564869742"
      ]
     },
     "execution_count": 7,
     "metadata": {},
     "output_type": "execute_result"
    }
   ],
   "source": [
    "t_2 = s_2 / v\n",
    "t_2"
   ]
  },
  {
   "cell_type": "code",
   "execution_count": null,
   "metadata": {},
   "outputs": [
    {
     "data": {
      "text/plain": [
       "0.0551951853132063"
      ]
     },
     "execution_count": 8,
     "metadata": {},
     "output_type": "execute_result"
    }
   ],
   "source": [
    "m = (72036282 - 55132452 + 11464466)/(887525183 - 373561948)\n",
    "m"
   ]
  },
  {
   "cell_type": "code",
   "execution_count": null,
   "metadata": {},
   "outputs": [],
   "source": []
  },
  {
   "cell_type": "code",
   "execution_count": null,
   "metadata": {},
   "outputs": [],
   "source": []
  }
 ],
 "metadata": {
  "kernelspec": {
   "display_name": "base",
   "language": "python",
   "name": "python3"
  },
  "language_info": {
   "codemirror_mode": {
    "name": "ipython",
    "version": 3
   },
   "file_extension": ".py",
   "mimetype": "text/x-python",
   "name": "python",
   "nbconvert_exporter": "python",
   "pygments_lexer": "ipython3",
   "version": "3.9.12"
  }
 },
 "nbformat": 4,
 "nbformat_minor": 2
}
