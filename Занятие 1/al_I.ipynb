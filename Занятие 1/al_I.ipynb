{
 "cells": [
  {
   "cell_type": "code",
   "execution_count": 6,
   "metadata": {},
   "outputs": [],
   "source": [
    "holidays = ([1, 'January'], [8, 'January'])\n",
    "N = 2\n",
    "year = 2015\n",
    "day_of_week = [\"Thursday\"]"
   ]
  },
  {
   "cell_type": "code",
   "execution_count": 1,
   "metadata": {},
   "outputs": [
    {
     "name": "stdout",
     "output_type": "stream",
     "text": [
      "['168', '1900', '28 December', '24 December', '23 December', '21 December', '20 December', '17 December', '16 December', '14 December', '13 December', '12 December', '9 December', '7 December', '5 December', '2 December', '29 November', '28 November', '27 November', '26 November', '24 November', '22 November', '21 November', '20 November', '19 November', '17 November', '13 November', '8 November', '7 November', '4 November', '2 November', '1 November', '31 October', '28 October', '27 October', '24 October', '19 October', '18 October', '15 October', '11 October', '10 October', '9 October', '5 October', '3 October', '2 October', '30 September', '29 September', '25 September', '23 September', '20 September', '18 September', '16 September', '14 September', '13 September', '4 September', '2 September', '30 August', '29 August', '24 August', '19 August', '17 August', '15 August', '14 August', '11 August', '9 August', '3 August', '31 July', '29 July', '27 July', '22 July', '19 July', '17 July', '15 July', '14 July', '13 July', '10 July', '9 July', '3 July', '1 July', '29 June', '27 June', '26 June', '23 June', '20 June', '19 June', '18 June', '17 June', '16 June', '15 June', '14 June', '12 June', '10 June', '9 June', '8 June', '31 May', '29 May', '28 May', '26 May', '24 May', '22 May', '21 May', '20 May', '19 May', '18 May', '17 May', '16 May', '13 May', '12 May', '11 May', '9 May', '4 May', '2 May', '1 May', '30 April', '29 April', '25 April', '22 April', '21 April', '19 April', '18 April', '13 April', '12 April', '11 April', '10 April', '8 April', '7 April', '6 April', '5 April', '4 April', '30 March', '29 March', '27 March', '23 March', '20 March', '15 March', '14 March', '13 March', '9 March', '7 March', '6 March', '4 March', '2 March', '26 February', '25 February', '24 February', '21 February', '19 February', '16 February', '15 February', '14 February', '11 February', '8 February', '7 February', '5 February', '3 February', '2 February', '23 January', '21 January', '20 January', '19 January', '18 January', '16 January', '11 January', '10 January', '9 January', '7 January', '6 January', '3 January', '2 January', '1 January', 'Monday']\n"
     ]
    }
   ],
   "source": [
    "with open('34.txt', 'r') as file:\n",
    "    data = file.readlines()\n",
    "    data = [line.rstrip() for line in data]\n",
    "    print(data)\n",
    "\n",
    "N = int(data[0])\n",
    "year = int(data[1])\n",
    "day_of_week = []\n",
    "day_of_week.append(data[-1])\n",
    "holidays = []\n",
    "day_month = []\n",
    "for i in range(N):\n",
    "    day_month.append(data[i+2])\n",
    "for i in range(N):\n",
    "    day, month = day_month[i].split()\n",
    "\n",
    "    day = int(day)\n",
    "    holidays.append([day, month])\n",
    "holidays = tuple(holidays)"
   ]
  },
  {
   "cell_type": "code",
   "execution_count": 15,
   "metadata": {},
   "outputs": [],
   "source": [
    "N = int(input())\n",
    "year = int(input())\n",
    "holidays = []\n",
    "day_of_week = []\n",
    "for i in range(N):\n",
    "    day, month = map(str, input().split())\n",
    "    day = int(day)\n",
    "    holidays.append([day, month])\n",
    "\n",
    "day_of_week.append(input())\n",
    "\n",
    "holidays = tuple(holidays)"
   ]
  },
  {
   "cell_type": "code",
   "execution_count": 2,
   "metadata": {},
   "outputs": [
    {
     "name": "stdout",
     "output_type": "stream",
     "text": [
      "Monday Tuesday\n"
     ]
    }
   ],
   "source": [
    "\n",
    "def funk_days_year(year):\n",
    "    days_year = 365\n",
    "    if year % 400 == 0 or (year % 4 == 0 and year % 100 != 0):\n",
    "        days_year = 366\n",
    "    return days_year\n",
    "\n",
    "days_year = funk_days_year(year)\n",
    "\n",
    "def funk_month_ind(one_holidays, month):\n",
    "    month_no_days = []\n",
    "    for i in range(len(month)):\n",
    "        month_no_days.append(month[i][0])\n",
    "    index_month_of_year = month_no_days.index(one_holidays[1])\n",
    "    return index_month_of_year\n",
    "\n",
    "def funk_day_count(one_holidays, days_year):\n",
    "    count = 0\n",
    "    if days_year == 365:\n",
    "        month = [\"January\", 31], [\"February\", 28], [\"March\", 31], [\"April\", 30], [\"May\", 31], [\"June\", 30], [\"July\", 31], [\"August\", 31], [\"September\", 30], [\"October\", 31], [\"November\", 30], [\"December\", 31]\n",
    "    elif days_year == 366:\n",
    "        month = [\"January\", 31], [\"February\", 29], [\"March\", 31], [\"April\", 30], [\"May\", 31], [\"June\", 30], [\"July\", 31], [\"August\", 31], [\"September\", 30], [\"October\", 31], [\"November\", 30], [\"December\", 31]\n",
    "    \n",
    "    one_month = funk_month_ind(one_holidays, month)\n",
    "    count = one_holidays[0]\n",
    "    if one_month >= 1:\n",
    "        for i in range(one_month):\n",
    "            count = count + month[i][1]\n",
    "    return count\n",
    "\n",
    "day_count = []\n",
    "for i in range(N):\n",
    "    day_count.append(funk_day_count(holidays[i], days_year))\n",
    "\n",
    "if N == days_year:\n",
    "    print('Monday Tuesday')\n",
    "    \n",
    " \n",
    "else:\n",
    "    week = [\"Monday\"], [\"Tuesday\"], [\"Wednesday\"], [\"Thursday\"], [\"Friday\"], [\"Saturday\"], [\"Sunday\"]\n",
    "    index_day_of_week = week.index(day_of_week)\n",
    "\n",
    "    if days_year == 365:\n",
    "        for i in range(len(week)):\n",
    "            if i != index_day_of_week:\n",
    "                week[i].append(52)\n",
    "            else:\n",
    "                week[i].append(53)\n",
    "    else:\n",
    "        for i in range(len(week)):\n",
    "            index_day_of_week_2 = index_day_of_week + 1\n",
    "            if index_day_of_week_2 > 6:\n",
    "                index_day_of_week_2 = 0\n",
    "            if i == index_day_of_week or i == index_day_of_week_2:\n",
    "                week[i].append(53)\n",
    "            elif i != index_day_of_week or i != index_day_of_week_2:\n",
    "                week[i].append(52)\n",
    "\n",
    "    day_count_week_2 = []\n",
    "    for i in range(len(day_count)):\n",
    "        day_count_week = (day_count[i] % 7)\n",
    "        \n",
    "        week_7 = [0, 1, 2, 3, 4, 5, 6]\n",
    "        for i in range(len(week_7)):\n",
    "            week_7[i] = week_7[i] - (index_day_of_week - 1)\n",
    "            if week_7[i] < 0:\n",
    "                week_7[i] = week_7[i] + 7\n",
    "            if week_7[i] > 6:\n",
    "                week_7[i] = week_7[i] - 7\n",
    "\n",
    "        day_count_week_2.append(week_7.index(day_count_week))\n",
    "\n",
    "    for i in range(len(day_count_week_2)):\n",
    "        j = day_count_week_2[i]\n",
    "        week[j][1] = week[j][1] - 1\n",
    "\n",
    "    week_1 = []\n",
    "    for i in range(len(week)):\n",
    "        week_1.append(week[i][1])\n",
    "    m = min(week_1)\n",
    "    m_2 = max(week_1)\n",
    "    min_ind = week_1.index(m)\n",
    "    max_ind = week_1.index(m_2)\n",
    "    max_month = week[max_ind][0]\n",
    "    min_month = week[min_ind][0]\n",
    "    result = max_month + \" \" + min_month\n",
    "    print(result)"
   ]
  }
 ],
 "metadata": {
  "kernelspec": {
   "display_name": "base",
   "language": "python",
   "name": "python3"
  },
  "language_info": {
   "codemirror_mode": {
    "name": "ipython",
    "version": 3
   },
   "file_extension": ".py",
   "mimetype": "text/x-python",
   "name": "python",
   "nbconvert_exporter": "python",
   "pygments_lexer": "ipython3",
   "version": "3.9.12"
  }
 },
 "nbformat": 4,
 "nbformat_minor": 2
}
