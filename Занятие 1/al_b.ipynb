{
 "cells": [
  {
   "cell_type": "code",
   "execution_count": 1,
   "metadata": {},
   "outputs": [
    {
     "name": "stdout",
     "output_type": "stream",
     "text": [
      "1\n"
     ]
    }
   ],
   "source": [
    "# Матч\n",
    "\n",
    "\n",
    "x, y = map(int, input().split(\":\")) # score_1[0] score_1[-1]\n",
    "z, k = map(int, input().split(\":\")) # score_2[0] score_2[-1]\n",
    "\n",
    "flag = int(input())\n",
    "\n",
    "team_1 = x + z\n",
    "team_2 = y + k\n",
    "\n",
    "\n",
    "if team_1 > team_2:\n",
    "    print(0)\n",
    "\n",
    "if team_1 == team_2:\n",
    "    if flag == 1:\n",
    "        if z > y:\n",
    "            print(0)\n",
    "        if z == y:\n",
    "            print(1)\n",
    "        if z < y:\n",
    "            n = 1\n",
    "            print(n)\n",
    " \n",
    "\n",
    "    if flag == 2:\n",
    "        if x > k:\n",
    "            print(0)\n",
    "        if x == k:\n",
    "            print(1)\n",
    "        if x < k:\n",
    "            n = k - x - 1\n",
    "            print(n)\n",
    "\n",
    "if team_1 < team_2:\n",
    "    if flag == 1:\n",
    "        n = team_2 - team_1\n",
    "        z_1 = z + n\n",
    "        if z_1 <= y:\n",
    "            n += 1\n",
    "        else:\n",
    "            n = n\n",
    "        print(n)\n",
    "    if flag == 2:\n",
    "        n = team_2 - team_1\n",
    "        if x > k:\n",
    "            n = n\n",
    "        else:\n",
    "            n += 1\n",
    "        print(n)\n"
   ]
  }
 ],
 "metadata": {
  "kernelspec": {
   "display_name": "base",
   "language": "python",
   "name": "python3"
  },
  "language_info": {
   "codemirror_mode": {
    "name": "ipython",
    "version": 3
   },
   "file_extension": ".py",
   "mimetype": "text/x-python",
   "name": "python",
   "nbconvert_exporter": "python",
   "pygments_lexer": "ipython3",
   "version": "3.9.12"
  }
 },
 "nbformat": 4,
 "nbformat_minor": 2
}
