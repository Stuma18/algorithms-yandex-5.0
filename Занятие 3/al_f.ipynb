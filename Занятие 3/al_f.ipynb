{
 "cells": [
  {
   "cell_type": "code",
   "execution_count": 4,
   "metadata": {},
   "outputs": [
    {
     "name": "stdout",
     "output_type": "stream",
     "text": [
      "a aa aa bc abcd\n"
     ]
    }
   ],
   "source": [
    "def text(dictionary, sentence):\n",
    "    ans = []\n",
    "    for w in sentence:\n",
    "        for j in range(1, len(w)):\n",
    "            if w[:j] in dictionary:\n",
    "                ans.append(w[:j])\n",
    "                break\n",
    "        else:\n",
    "            ans.append(w)\n",
    "    return \" \".join(ans)\n",
    "\n",
    "\n",
    "dictionary  = set(input().split())\n",
    "sentence = input().split()\n",
    "print(text(dictionary, sentence))"
   ]
  },
  {
   "cell_type": "markdown",
   "metadata": {},
   "source": []
  }
 ],
 "metadata": {
  "kernelspec": {
   "display_name": "base",
   "language": "python",
   "name": "python3"
  },
  "language_info": {
   "codemirror_mode": {
    "name": "ipython",
    "version": 3
   },
   "file_extension": ".py",
   "mimetype": "text/x-python",
   "name": "python",
   "nbconvert_exporter": "python",
   "pygments_lexer": "ipython3",
   "version": "3.9.12"
  }
 },
 "nbformat": 4,
 "nbformat_minor": 2
}
