{
 "cells": [
  {
   "cell_type": "code",
   "execution_count": null,
   "metadata": {},
   "outputs": [],
   "source": [
    "filename = '21.txt'\n",
    "\n",
    "with open(filename, 'r') as file:\n",
    "    n = int(file.readline())\n",
    "    lines = file.readlines()\n",
    "\n",
    "    matrix = []\n",
    "    for line in lines:\n",
    "        row = list(map(int, line.split()))\n",
    "        matrix.append(row)\n",
    "\n",
    "music_song = list(matrix[1])"
   ]
  },
  {
   "cell_type": "code",
   "execution_count": null,
   "metadata": {},
   "outputs": [],
   "source": [
    "n = int(input())\n",
    "music_num = []\n",
    "music_song = []\n",
    "for _ in range(n):\n",
    "    k = int(input())\n",
    "    music_num.append(k)\n",
    "    list_k = input().split()\n",
    "    music_song.append(list_k)\n",
    "\n",
    "if n == 1:\n",
    "    print(len(music_song[0]))\n",
    "    song = music_song[0]\n",
    "    song.sort()\n",
    "    result_1 = ' '.join(str(item) for item in song)\n",
    "    print(result_1)\n",
    "\n",
    "if n != 1:\n",
    "    song = music_song[0]\n",
    "    for i in range(1, n):\n",
    "        song = list(set(song).intersection(music_song[i]))\n",
    "    \n",
    "    # Сортируем по алфавиту\n",
    "    song.sort()\n",
    "    \n",
    "    print(len(song))\n",
    "    result_2 = ' '.join(str(item) for item in song)\n",
    "    print(result_2)"
   ]
  }
 ],
 "metadata": {
  "kernelspec": {
   "display_name": "base",
   "language": "python",
   "name": "python3"
  },
  "language_info": {
   "codemirror_mode": {
    "name": "ipython",
    "version": 3
   },
   "file_extension": ".py",
   "mimetype": "text/x-python",
   "name": "python",
   "nbconvert_exporter": "python",
   "pygments_lexer": "ipython3",
   "version": "3.9.12"
  }
 },
 "nbformat": 4,
 "nbformat_minor": 2
}
