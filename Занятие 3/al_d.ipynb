{
 "cells": [
  {
   "cell_type": "code",
   "execution_count": 3,
   "metadata": {},
   "outputs": [],
   "source": [
    "n, k = map(int, input().split())\n",
    "list_num = list(map(int, input().split()))"
   ]
  },
  {
   "cell_type": "code",
   "execution_count": 7,
   "metadata": {},
   "outputs": [
    {
     "name": "stdout",
     "output_type": "stream",
     "text": [
      "NO\n"
     ]
    }
   ],
   "source": [
    "def repeated(list_num, k):\n",
    "    num_dict = {}\n",
    "\n",
    "    for i, num in enumerate(list_num):\n",
    "        if num in num_dict and i - num_dict[num] <= k:\n",
    "            return True\n",
    "        num_dict[num] = i\n",
    "\n",
    "    return False\n",
    "\n",
    "n, k = map(int, input().split())\n",
    "list_num = list(map(int, input().split()))\n",
    "\n",
    "result = repeated(list_num, k)\n",
    "if result:\n",
    "    print(\"YES\")\n",
    "else:\n",
    "    print(\"NO\")"
   ]
  }
 ],
 "metadata": {
  "kernelspec": {
   "display_name": "base",
   "language": "python",
   "name": "python3"
  },
  "language_info": {
   "codemirror_mode": {
    "name": "ipython",
    "version": 3
   },
   "file_extension": ".py",
   "mimetype": "text/x-python",
   "name": "python",
   "nbconvert_exporter": "python",
   "pygments_lexer": "ipython3",
   "version": "3.9.12"
  }
 },
 "nbformat": 4,
 "nbformat_minor": 2
}
