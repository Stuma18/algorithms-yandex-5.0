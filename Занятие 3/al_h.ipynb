{
 "cells": [
  {
   "cell_type": "code",
   "execution_count": 2,
   "metadata": {},
   "outputs": [
    {
     "name": "stdout",
     "output_type": "stream",
     "text": [
      "1\n"
     ]
    }
   ],
   "source": [
    "def vector(cords):\n",
    "\tx1, y1, x2, y2 = cords\n",
    "\tx_start, y_start = x1, y1\n",
    "\tx_end, y_end = x2, y2\n",
    "\tif y_start > y_end or y_start == y_end and x_start > x_end:\n",
    "\t\tx_start, y_start = x2, y2\n",
    "\t\tx_end, y_end = x1, y1\n",
    "\tx_move, y_move = x_end - x_start, y_end - y_start\n",
    "\treturn (x_start, y_start), (x_move, y_move)\n",
    "\n",
    "\n",
    "def direction(figure_):\n",
    "\tvectors_direction = dict()\n",
    "\tfor cords in figure_:\n",
    "\t\t(x_start, y_start), (x_move, y_move) = vector(cords)\n",
    "\t\tif (x_move, y_move) not in vectors_direction:\n",
    "\t\t\tvectors_direction[(x_move, y_move)] = []\n",
    "\t\tvectors_direction[(x_move, y_move)].append((x_start, y_start))\n",
    "\treturn vectors_direction\n",
    "\n",
    "def main(n, figure_A, figure_B):\n",
    "\tdirection_A = direction(figure_A)\n",
    "\tdirection_B = direction(figure_B)\n",
    "\n",
    "\tdiff = dict()\n",
    "\tmax_ = 0\n",
    "\tfor k, items_A in direction_B.items():\n",
    "\t\tif not k in direction_A:\n",
    "\t\t\tcontinue\n",
    "\t\tfor (x1, y1) in items_A:\n",
    "\t\t\tfor (x2, y2) in direction_A[k]:\n",
    "\t\t\t\tdx, dy = x2- x1, y2-y1\n",
    "\t\t\t\tif (dx, dy) not in diff:\n",
    "\t\t\t\t\tdiff[(dx, dy)] = 0\n",
    "\t\t\t\tdiff[(dx, dy)] += 1\n",
    "\t\t\t\tif max_ < diff[(dx, dy)]:\n",
    "\t\t\t\t\tmax_ = diff[(dx, dy)]\n",
    "\treturn n - max_\n",
    "\n",
    "\n",
    "n = int(input())\n",
    "figure_A = []\n",
    "for i in range(n):\n",
    "    figure_A.append(list(map(int, input().split())))\n",
    "figure_B = []\n",
    "for i in range(n):\n",
    "    figure_B.append(list(map(int, input().split())))\n",
    "res = main(n, figure_A, figure_B)\n",
    "print(res)"
   ]
  }
 ],
 "metadata": {
  "kernelspec": {
   "display_name": "base",
   "language": "python",
   "name": "python3"
  },
  "language_info": {
   "codemirror_mode": {
    "name": "ipython",
    "version": 3
   },
   "file_extension": ".py",
   "mimetype": "text/x-python",
   "name": "python",
   "nbconvert_exporter": "python",
   "pygments_lexer": "ipython3",
   "version": "3.9.12"
  }
 },
 "nbformat": 4,
 "nbformat_minor": 2
}
