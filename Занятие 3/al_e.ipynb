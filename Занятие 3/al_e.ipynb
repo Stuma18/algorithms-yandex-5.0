{
 "cells": [
  {
   "cell_type": "code",
   "execution_count": 3,
   "metadata": {},
   "outputs": [],
   "source": [
    "n_1 = int(input())\n",
    "str_1 = list(input())\n",
    "n_2 = int(input())\n",
    "str_2 = list(input())\n",
    "n_3 = int(input())\n",
    "str_3 = list(input())"
   ]
  },
  {
   "cell_type": "code",
   "execution_count": 34,
   "metadata": {},
   "outputs": [
    {
     "name": "stdout",
     "output_type": "stream",
     "text": [
      "1 3 9 14 17\n"
     ]
    }
   ],
   "source": [
    "n_1 = int(input())\n",
    "str_1 = list(input().split())\n",
    "n_2 = int(input())\n",
    "str_2 = list(input().split())\n",
    "n_3 = int(input())\n",
    "str_3 = list(input().split())\n",
    "\n",
    "inter_1_2 = list(set(str_1) & set(str_2))\n",
    "inter_2_3 = list(set(str_2) & set(str_3))\n",
    "inter_1_3 = list(set(str_1) & set(str_3))\n",
    "inter = list(set(inter_1_2 + inter_2_3 + inter_1_3) - set([' ']))\n",
    "my_list = [int(x) for x in inter]\n",
    "sorted_list = sorted(my_list)\n",
    "result = ' '.join(str(item) for item in sorted_list)\n",
    "print(result)"
   ]
  }
 ],
 "metadata": {
  "kernelspec": {
   "display_name": "base",
   "language": "python",
   "name": "python3"
  },
  "language_info": {
   "codemirror_mode": {
    "name": "ipython",
    "version": 3
   },
   "file_extension": ".py",
   "mimetype": "text/x-python",
   "name": "python",
   "nbconvert_exporter": "python",
   "pygments_lexer": "ipython3",
   "version": "3.9.12"
  }
 },
 "nbformat": 4,
 "nbformat_minor": 2
}
