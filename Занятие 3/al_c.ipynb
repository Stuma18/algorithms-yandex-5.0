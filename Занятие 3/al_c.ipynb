{
 "cells": [
  {
   "cell_type": "markdown",
   "metadata": {},
   "source": [
    "# неправильно считает\n",
    "from collections import Counter\n",
    "n = int(input())\n",
    "list_n = map(int, input().split())\n",
    "coll_2 = Counter(list_n).most_common(2) # 1-число, 2-кол-во\n",
    "if len(coll_2) == 1:\n",
    "    print(coll_2[0][1])\n",
    "else:\n",
    "    res = n - (coll_2[0][1] + coll_2[1][1])\n",
    "    print(res)"
   ]
  },
  {
   "cell_type": "code",
   "execution_count": null,
   "metadata": {},
   "outputs": [],
   "source": [
    "# Из-за sys.exit() выводит предупреждения\n",
    "import collections\n",
    "import sys\n",
    "n = int(input())\n",
    "str_1 = collections.Counter(input().split()).most_common()\n",
    "if len(str_1) == 1:\n",
    "    print(0)\n",
    "else:\n",
    "    m = 0\n",
    "    for j in range(0, len(str_1) - 1):\n",
    "        for i in range(1, len(str_1)):\n",
    "            if abs(int(str_1[j][0]) - int(str_1[i][0])) == 1:\n",
    "                m = 1\n",
    "                print('aaa', n - (str_1[j][1] + str_1[i][1]))\n",
    "                sys.exit()\n",
    "                #break\n",
    "    if m == 0:\n",
    "        print('bbb', n - int(str_1[0][1]))\n",
    "        "
   ]
  },
  {
   "cell_type": "code",
   "execution_count": 1,
   "metadata": {},
   "outputs": [
    {
     "name": "stdout",
     "output_type": "stream",
     "text": [
      "198999\n"
     ]
    }
   ],
   "source": [
    "# ошибка в 33\n",
    "import collections\n",
    "\n",
    "def funk(str_1):\n",
    "    if len(str_1) == 1:\n",
    "        return 0\n",
    "    else:\n",
    "        m = 0\n",
    "        for j in range(0, len(str_1) - 1):\n",
    "            for i in range(1, len(str_1)):\n",
    "                if abs(int(str_1[j][0]) - int(str_1[i][0])) == 1:\n",
    "                    m = 1\n",
    "                    return n - (str_1[j][1] + str_1[i][1])\n",
    "        if m == 0:\n",
    "            return n - int(str_1[0][1])\n",
    "\n",
    "\n",
    "\n",
    "n = int(input())\n",
    "str_1 = collections.Counter(input().split()).most_common()\n",
    "\n",
    "res = funk(str_1)\n",
    "print(res)"
   ]
  },
  {
   "cell_type": "code",
   "execution_count": 4,
   "metadata": {},
   "outputs": [
    {
     "name": "stdout",
     "output_type": "stream",
     "text": [
      "199984\n"
     ]
    }
   ],
   "source": [
    "import collections\n",
    "\n",
    "def funk(str_1):\n",
    "    if len(str_1) == 1:\n",
    "        return 0, 0\n",
    "    else:\n",
    "        data = []\n",
    "        m = 0\n",
    "        j = 0\n",
    "        while j < min(20, len(str_1)):\n",
    "            for i in range(1, len(str_1)):\n",
    "                if abs(int(str_1[j][0]) - int(str_1[i][0])) == 1:\n",
    "                    m = 1\n",
    "                    data.append(n - (str_1[j][1] + str_1[i][1]))\n",
    "            j += 1\n",
    "        if data:\n",
    "            return data, m\n",
    "        if m == 0:\n",
    "            return n - int(str_1[0][1]), m\n",
    "\n",
    "\n",
    "n = int(input())\n",
    "str_1 = collections.Counter(input().split()).most_common()\n",
    "\n",
    "res, m = funk(str_1)\n",
    "if m == 0:\n",
    "    print(res)\n",
    "else:\n",
    "    print(min(res))\n"
   ]
  }
 ],
 "metadata": {
  "kernelspec": {
   "display_name": "base",
   "language": "python",
   "name": "python3"
  },
  "language_info": {
   "codemirror_mode": {
    "name": "ipython",
    "version": 3
   },
   "file_extension": ".py",
   "mimetype": "text/x-python",
   "name": "python",
   "nbconvert_exporter": "python",
   "pygments_lexer": "ipython3",
   "version": "3.9.12"
  }
 },
 "nbformat": 4,
 "nbformat_minor": 2
}
