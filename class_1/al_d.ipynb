{
 "cells": [
  {
   "cell_type": "code",
   "execution_count": 6,
   "metadata": {},
   "outputs": [
    {
     "name": "stdout",
     "output_type": "stream",
     "text": [
      "['BBBBBBB*', '******R*', '*****R**', '****R***', '***R****', '**R*****', '*R******', 'R*******']\n"
     ]
    }
   ],
   "source": [
    "with open('09.txt', 'r') as file:\n",
    "    data = file.readlines()\n",
    "    data = [line.rstrip() for line in data]\n",
    "    print(data)\n",
    "input_list = data"
   ]
  },
  {
   "cell_type": "code",
   "execution_count": 7,
   "metadata": {},
   "outputs": [
    {
     "name": "stdout",
     "output_type": "stream",
     "text": [
      "40\n"
     ]
    }
   ],
   "source": [
    "def find(array, x):\n",
    "    indices = []\n",
    "    for i in range(len(array)):\n",
    "        for j in range(len(array[i])):\n",
    "            if array[i][j] == x:\n",
    "                indices.append((i, j))\n",
    "    return indices\n",
    "\n",
    "input_list = []\n",
    "for i in range(8):\n",
    "    line = input()\n",
    "    input_list.append(line[:8])\n",
    "  \n",
    "el_b = 'B'\n",
    "el_r = 'R'\n",
    "\n",
    "list_b = find(input_list, el_b)\n",
    "list_r = find(input_list, el_r)\n",
    "\n",
    "matrix = []\n",
    "for i in range(8):\n",
    "    row = []\n",
    "    for j in range(8):\n",
    "        row.append(0)\n",
    "    matrix.append(row)\n",
    "    \n",
    "for coord in list_b:\n",
    "        x, y = coord\n",
    "        matrix[x][y] = 1 # слон\n",
    "for coord in list_r:\n",
    "        x, y = coord\n",
    "        matrix[x][y] = 2 # ладья\n",
    "\n",
    "\n",
    "# ладья\n",
    "for i in range(len(list_r)):\n",
    "    x = list_r[i][0]\n",
    "    y = list_r[i][1]\n",
    "    \n",
    "    for j in range(1, 10):\n",
    "        if x - j >= 0:\n",
    "            if matrix[x - j][y] == 0 or matrix[x - j][y] == 3:\n",
    "                matrix[x - j][y] = 3\n",
    "            else:\n",
    "                break\n",
    "        else:\n",
    "                break\n",
    "    \n",
    "    for j in range(1, 10):\n",
    "        if x + j <= 7:\n",
    "            if matrix[x + j][y] == 0 or matrix[x + j][y] == 3:\n",
    "                matrix[x + j][y] = 3\n",
    "            else:\n",
    "                break\n",
    "        else:\n",
    "                break\n",
    "    \n",
    "    for j in range(1, 10):\n",
    "        if y - j >= 0:\n",
    "            if matrix[x][y - j] == 0 or matrix[x][y - j] == 3:\n",
    "                matrix[x][y - j] = 3\n",
    "            else:\n",
    "                break\n",
    "        else:\n",
    "                break\n",
    "    \n",
    "    for j in range(1, 10):\n",
    "        if y + j <= 7:\n",
    "            if matrix[x][y + j] == 0 or matrix[x][y + j] == 3:\n",
    "                matrix[x][y + j] = 3\n",
    "            else:\n",
    "                break\n",
    "        else:\n",
    "                break\n",
    "\n",
    "\n",
    "# слон\n",
    "for i in range(len(list_b)):\n",
    "    x = list_b[i][0]\n",
    "    y = list_b[i][1]\n",
    "    \n",
    "    for j in range(1, 10):\n",
    "        if x - j >= 0 and y - j >= 0:\n",
    "            if matrix[x - j][y - j] == 0 or matrix[x - j][y - j] == 3 or matrix[x - j][y - j] == 4:\n",
    "                matrix[x - j][y - j] = 4\n",
    "            else:\n",
    "                break\n",
    "        else:\n",
    "                break\n",
    "    \n",
    "    for j in range(1, 10):\n",
    "        if x + j <= 7 and y + j <= 7:\n",
    "            if matrix[x + j][y + j] == 0 or matrix[x + j][y + j] == 3 or matrix[x + j][y + j] == 4:\n",
    "                matrix[x + j][y + j] = 4\n",
    "            else:\n",
    "                break\n",
    "        else:\n",
    "            break\n",
    "    \n",
    "    for j in range(1, 10):\n",
    "        if x - j >= 0 and y + j <= 7:\n",
    "            if matrix[x - j][y + j] == 0 or matrix[x - j][y + j] == 3 or matrix[x - j][y + j] == 4:\n",
    "                matrix[x - j][y + j] = 4\n",
    "            else:\n",
    "                break\n",
    "        else:\n",
    "                break\n",
    "    \n",
    "    for j in range(1, 10):\n",
    "        if x + j <= 7 and y - j >= 0:\n",
    "            if matrix[x + j][y - j] == 0 or matrix[x + j][y - j] == 3 or matrix[x + j][y - j] == 4:\n",
    "                matrix[x + j][y - j] = 4\n",
    "            else:\n",
    "                break\n",
    "        else:\n",
    "                break\n",
    "\n",
    "\n",
    "zero_count = sum(row.count(0) for row in matrix)\n",
    "print(zero_count)"
   ]
  },
  {
   "cell_type": "code",
   "execution_count": 8,
   "metadata": {},
   "outputs": [
    {
     "name": "stdout",
     "output_type": "stream",
     "text": [
      "[0, 3, 4, 0, 0, 0, 0, 0]\n",
      "[3, 2, 3, 4, 3, 3, 3, 4]\n",
      "[0, 3, 0, 0, 4, 0, 4, 0]\n",
      "[0, 3, 0, 0, 0, 1, 0, 0]\n",
      "[0, 3, 0, 0, 4, 0, 4, 0]\n",
      "[0, 3, 0, 4, 0, 0, 0, 4]\n",
      "[0, 3, 4, 0, 0, 0, 0, 0]\n",
      "[0, 4, 0, 0, 0, 0, 0, 0]\n"
     ]
    }
   ],
   "source": [
    "for row in matrix:\n",
    "    print(row)"
   ]
  }
 ],
 "metadata": {
  "kernelspec": {
   "display_name": "base",
   "language": "python",
   "name": "python3"
  },
  "language_info": {
   "codemirror_mode": {
    "name": "ipython",
    "version": 3
   },
   "file_extension": ".py",
   "mimetype": "text/x-python",
   "name": "python",
   "nbconvert_exporter": "python",
   "pygments_lexer": "ipython3",
   "version": "3.9.12"
  }
 },
 "nbformat": 4,
 "nbformat_minor": 2
}
